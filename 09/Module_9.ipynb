{
  "cells": [
    {
      "cell_type": "markdown",
      "metadata": {
        "colab_type": "text",
        "id": "view-in-github"
      },
      "source": [
        "<a href=\"https://colab.research.google.com/github/frcaulia/machine_learning/blob/main/Module_9.ipynb\" target=\"_parent\"><img src=\"https://colab.research.google.com/assets/colab-badge.svg\" alt=\"Open In Colab\"/></a>"
      ]
    },
    {
      "cell_type": "markdown",
      "metadata": {
        "id": "7qomX1s0kjgE"
      },
      "source": [
        "# **Faricha Aulia ✨**\n",
        "Machine Learning Course : Module 9 Lab Work Assignment\n",
        "\n",
        "---"
      ]
    },
    {
      "cell_type": "markdown",
      "metadata": {
        "id": "FTYH1U8Yprsv"
      },
      "source": [
        "## **Perform classification on the MNIST dataset using an Artificial Neural Network (ANN) model.**\n"
      ]
    },
    {
      "cell_type": "markdown",
      "metadata": {
        "id": "fJIQ1qcws2HT"
      },
      "source": [
        "### a. Preprocessing methods."
      ]
    },
    {
      "cell_type": "code",
      "execution_count": 1,
      "metadata": {
        "colab": {
          "base_uri": "https://localhost:8080/"
        },
        "id": "twBD20Djk84H",
        "outputId": "4ca9f1ed-3243-4c9e-94f4-796f4248a167"
      },
      "outputs": [
        {
          "name": "stderr",
          "output_type": "stream",
          "text": [
            "/usr/local/lib/python3.10/dist-packages/sklearn/datasets/_openml.py:968: FutureWarning: The default value of `parser` will change from `'liac-arff'` to `'auto'` in 1.4. You can set `parser='auto'` to silence this warning. Therefore, an `ImportError` will be raised from 1.4 if the dataset is dense and pandas is not installed. Note that the pandas parser may return different data types. See the Notes Section in fetch_openml's API doc for details.\n",
            "  warn(\n"
          ]
        }
      ],
      "source": [
        "from sklearn.datasets import fetch_openml\n",
        "\n",
        "mnist = fetch_openml(\"mnist_784\")"
      ]
    },
    {
      "cell_type": "code",
      "execution_count": 2,
      "metadata": {
        "colab": {
          "base_uri": "https://localhost:8080/"
        },
        "id": "auC7zH0ev3ND",
        "outputId": "cf3d749b-b38e-4690-dec0-542a1045bb1e"
      },
      "outputs": [
        {
          "name": "stdout",
          "output_type": "stream",
          "text": [
            "Number of samples: 70000\n",
            "Dimensions of each sample: 784\n",
            "Number of classes: 10\n"
          ]
        }
      ],
      "source": [
        "# Display the dimensions of the data\n",
        "print(\"Number of samples:\", mnist.data.shape[0])  # Number of samples/data points\n",
        "print(\"Dimensions of each sample:\", mnist.data.shape[1])  # Dimensions of each sample\n",
        "print(\"Number of classes:\", len(set(mnist.target)))  # Number of classes (unique)"
      ]
    },
    {
      "cell_type": "code",
      "execution_count": 3,
      "metadata": {
        "colab": {
          "base_uri": "https://localhost:8080/"
        },
        "id": "AcdD8C-twGeL",
        "outputId": "0c11082d-839b-462a-ffb5-c55da5b666a9"
      },
      "outputs": [
        {
          "name": "stdout",
          "output_type": "stream",
          "text": [
            "Data shape: (70000, 784)\n"
          ]
        }
      ],
      "source": [
        "# Extract data and labels\n",
        "X = mnist.data.astype('float32')\n",
        "y = mnist.target.astype('int')\n",
        "\n",
        "# Check the shape of the data\n",
        "print(\"Data shape:\", X.shape)"
      ]
    },
    {
      "cell_type": "markdown",
      "metadata": {
        "id": "wD6exdBOzd34"
      },
      "source": [
        "### b. Feature selection."
      ]
    },
    {
      "cell_type": "code",
      "execution_count": 4,
      "metadata": {
        "id": "l4Sh7-X9xoNl"
      },
      "outputs": [],
      "source": [
        "from sklearn.preprocessing import MinMaxScaler\n",
        "from sklearn.decomposition import PCA\n",
        "from sklearn.model_selection import train_test_split\n",
        "\n",
        "# Scaling data using MinMaxScaler\n",
        "scaler = MinMaxScaler()\n",
        "X_scaled = scaler.fit_transform(X)\n",
        "\n",
        "# Feature extraction using PCA with n_components set to 300\n",
        "pca = PCA(n_components=300)\n",
        "X_pca = pca.fit_transform(X_scaled)\n",
        "\n",
        "# Splitting the data into training and testing sets\n",
        "X_train, X_test, y_train, y_test = train_test_split(X_pca, y, test_size=0.2, random_state=42)\n"
      ]
    },
    {
      "cell_type": "markdown",
      "metadata": {
        "id": "l28DL8Hxzlfx"
      },
      "source": [
        "### c. ANN architecture."
      ]
    },
    {
      "cell_type": "code",
      "execution_count": 6,
      "metadata": {
        "id": "9o8ghmrTzoWF"
      },
      "outputs": [],
      "source": [
        "from keras.models import Sequential\n",
        "from keras.layers import Dense\n",
        "\n",
        "# Create an ANN model\n",
        "model = Sequential()\n",
        "\n",
        "# 128 units in the first hidden layer\n",
        "model.add(Dense(units=128, activation='relu', input_dim=300))\n",
        "\n",
        "# 64 units in the second hidden layer\n",
        "model.add(Dense(units=64, activation='relu'))\n",
        "\n",
        "# 32 units in the third hidden layer\n",
        "model.add(Dense(units=32, activation='relu'))\n",
        "\n",
        "# Add the output layer\n",
        "model.add(Dense(units=10, activation='softmax'))"
      ]
    },
    {
      "cell_type": "markdown",
      "metadata": {
        "id": "P2iyJFQp0bJw"
      },
      "source": [
        "### d. Activation functions.\n"
      ]
    },
    {
      "cell_type": "code",
      "execution_count": 7,
      "metadata": {
        "id": "tyg_x1UG0bmy"
      },
      "outputs": [],
      "source": [
        "# Compilation of the model\n",
        "model.compile(optimizer='adam',\n",
        "              loss='sparse_categorical_crossentropy',\n",
        "              metrics=['accuracy'])"
      ]
    },
    {
      "cell_type": "markdown",
      "metadata": {
        "id": "htfB0marp8ZN"
      },
      "source": [
        "## **You should explain the results you obtain**"
      ]
    },
    {
      "cell_type": "markdown",
      "metadata": {
        "id": "Kx0dTkje-enZ"
      },
      "source": [
        "### a. Accuracy."
      ]
    },
    {
      "cell_type": "code",
      "execution_count": 12,
      "metadata": {
        "colab": {
          "base_uri": "https://localhost:8080/"
        },
        "id": "buM-KNGL-gaw",
        "outputId": "7dee9c0f-9d37-4c92-91a5-ede3261ff764"
      },
      "outputs": [
        {
          "name": "stdout",
          "output_type": "stream",
          "text": [
            "1750/1750 [==============================] - 3s 2ms/step - loss: 2.3707 - accuracy: 0.1025\n",
            "Training Loss: 2.3707\n",
            "Training Accuracy: 0.1025\n",
            "438/438 [==============================] - 1s 2ms/step - loss: 2.3683 - accuracy: 0.1017\n",
            "Loss: 2.3683\n",
            "Accuracy: 0.1017\n"
          ]
        }
      ],
      "source": [
        "# Training Accuracy\n",
        "train_loss, train_accuracy = model.evaluate(X_train, y_train)\n",
        "print(f'Training Loss: {train_loss:.4f}')\n",
        "print(f'Training Accuracy: {train_accuracy:.4f}')\n",
        "\n",
        "# Testing Accuracy\n",
        "loss, accuracy = model.evaluate(X_test, y_test)\n",
        "print(f'Loss: {loss:.4f}')\n",
        "print(f'Accuracy: {accuracy:.4f}')"
      ]
    },
    {
      "cell_type": "markdown",
      "metadata": {
        "id": "3Br_tBFh-8GO"
      },
      "source": [
        "### b. Confusion matrix."
      ]
    },
    {
      "cell_type": "code",
      "execution_count": 13,
      "metadata": {
        "colab": {
          "base_uri": "https://localhost:8080/"
        },
        "id": "GCBF9Ymm_BBb",
        "outputId": "543a2971-a8c5-4097-a037-48417edfe129"
      },
      "outputs": [
        {
          "name": "stdout",
          "output_type": "stream",
          "text": [
            "438/438 [==============================] - 1s 1ms/step\n",
            "Confusion Matrix:\n",
            "[[   0    3    8    0    0   42    3    0    6 1281]\n",
            " [   0    8    8    0    0  147    1    0    1 1435]\n",
            " [   0  154   33    0    1  126   11    0    3 1052]\n",
            " [   0   13    2    0    0   61    9    0    0 1348]\n",
            " [   0  162   49    0    0   79    3    0    1 1001]\n",
            " [   0    4    0    0    1   93    2    0    0 1173]\n",
            " [   2   10   20    0    4  212    5    0   11 1132]\n",
            " [   0   26    5    0    0   83    4    0    7 1378]\n",
            " [   0    7    0    0    1   59    3    0    1 1286]\n",
            " [   0   72   10    0    0   48    3    0    3 1284]]\n"
          ]
        }
      ],
      "source": [
        "# Confusion Matrix\n",
        "y_pred = model.predict(X_test)\n",
        "y_pred_classes = np.argmax(y_pred, axis=1)\n",
        "confusion_mtx = confusion_matrix(y_test, y_pred_classes)\n",
        "\n",
        "print(\"Confusion Matrix:\")\n",
        "print(confusion_mtx)"
      ]
    },
    {
      "cell_type": "code",
      "execution_count": 24,
      "metadata": {
        "colab": {
          "base_uri": "https://localhost:8080/",
          "height": 405
        },
        "id": "zitP4s_s4gFy",
        "outputId": "0aaf3252-7835-4671-9277-7a6bc8417242"
      },
      "outputs": [
        {
          "name": "stdout",
          "output_type": "stream",
          "text": [
            "<pandas.io.formats.style.Styler object at 0x791a79d75900>\n"
          ]
        },
        {
          "data": {
            "image/png": "[encoded data removed]",
            "text/plain": [
              "<Figure size 500x400 with 2 Axes>"
            ]
          },
          "metadata": {},
          "output_type": "display_data"
        }
      ],
      "source": [
        "import pandas as pd\n",
        "\n",
        "# Create a DataFrame\n",
        "confusion_df = pd.DataFrame(conf_matrix, columns=[f'Predicted {i}' for i in range(10)], index=[f'Actual {i}' for i in range(10)])\n",
        "print(styled_confusion_df)\n",
        "\n",
        "# Display the heatmap with 'YlOrRd' colormap\n",
        "plt.figure(figsize=(5, 4))\n",
        "sns.heatmap(conf_matrix, annot=True, fmt='d', cmap='YlOrRd')\n",
        "plt.xlabel('Predicted')\n",
        "plt.ylabel('Actual')\n",
        "plt.show()"
      ]
    }
  ],
  "metadata": {
    "colab": {
      "authorship_tag": "ABX9TyP09RNfamwooh24xHzyd1C1",
      "collapsed_sections": [
        "FTYH1U8Yprsv",
        "htfB0marp8ZN"
      ],
      "include_colab_link": true,
      "provenance": []
    },
    "kernelspec": {
      "display_name": "Python 3",
      "name": "python3"
    },
    "language_info": {
      "name": "python"
    }
  },
  "nbformat": 4,
  "nbformat_minor": 0
}
