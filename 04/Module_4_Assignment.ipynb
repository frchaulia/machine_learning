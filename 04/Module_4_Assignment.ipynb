{
  "nbformat": 4,
  "nbformat_minor": 0,
  "metadata": {
    "colab": {
      "provenance": [],
      "authorship_tag": "ABX9TyOYNOLHklmA8vdCS39dNTIe",
      "include_colab_link": true
    },
    "kernelspec": {
      "name": "python3",
      "display_name": "Python 3"
    },
    "language_info": {
      "name": "python"
    }
  },
  "cells": [
    {
      "cell_type": "markdown",
      "metadata": {
        "id": "view-in-github",
        "colab_type": "text"
      },
      "source": [
        "<a href=\"https://colab.research.google.com/github/frcaulia/machine_learning/blob/main/Module_4.ipynb\" target=\"_parent\"><img src=\"https://colab.research.google.com/assets/colab-badge.svg\" alt=\"Open In Colab\"/></a>"
      ]
    },
    {
      "cell_type": "markdown",
      "source": [
        "# **Faricha Aulia ( 2141720155 )**\n",
        "Machine Learning Course : Module 4 Lab Work Assignment\n",
        "\n",
        "---"
      ],
      "metadata": {
        "id": "VxNHe8kl61Gm"
      }
    },
    {
      "cell_type": "markdown",
      "source": [
        "### **1. Create a classification model using SVM for the voice.csv data.**"
      ],
      "metadata": {
        "id": "2T-NGQhF67_v"
      }
    },
    {
      "cell_type": "code",
      "source": [
        "import pandas as pd\n",
        "from sklearn.svm import SVC\n",
        "from sklearn.model_selection import train_test_split\n",
        "from sklearn.metrics import accuracy_score\n",
        "\n",
        "# Load the voice.csv data using pandas\n",
        "voice_data_df = pd.read_csv(\"JS4-LW-Assignment-Voice.csv\")\n",
        "\n",
        "# Extract features (all columns except the target) and the target column\n",
        "X = voice_data_df.drop(\"label\", axis=1)\n",
        "y = voice_data_df[\"label\"]\n",
        "\n",
        "# Split data into training and testing sets\n",
        "X_train, X_test, y_train, y_test = train_test_split(X, y, test_size=0.25, random_state=42)\n",
        "\n",
        "# Create an SVM classifier\n",
        "clf = SVC()\n",
        "\n",
        "# Train the classifier and make predictions\n",
        "clf.fit(X_train, y_train)\n",
        "y_pred = clf.predict(X_test)\n",
        "\n",
        "# Calculate accuracy\n",
        "accuracy = accuracy_score(y_test, y_pred)\n",
        "print(\"Accuracy:\", accuracy)"
      ],
      "metadata": {
        "id": "dvCGqhg4_sd_",
        "outputId": "861c6dc0-2a57-440b-ab39-02d055431563",
        "colab": {
          "base_uri": "https://localhost:8080/"
        }
      },
      "execution_count": 16,
      "outputs": [
        {
          "output_type": "stream",
          "name": "stdout",
          "text": [
            "Accuracy: 0.6565656565656566\n"
          ]
        }
      ]
    },
    {
      "cell_type": "markdown",
      "source": [
        "### **2. Create a Multinomial Naive Bayes classification model with the following conditions:**"
      ],
      "metadata": {
        "id": "b5i0YJlq7Dkn"
      }
    },
    {
      "cell_type": "markdown",
      "source": [
        "#### **a. Use the spam.csv data.**"
      ],
      "metadata": {
        "id": "MwndgmW47N69"
      }
    },
    {
      "cell_type": "code",
      "source": [
        "import pandas as pd\n",
        "from sklearn.feature_extraction.text import CountVectorizer\n",
        "from sklearn.model_selection import train_test_split\n",
        "from sklearn.naive_bayes import MultinomialNB\n",
        "from sklearn.metrics import accuracy_score, precision_score, recall_score, f1_score\n",
        "\n",
        "# Read the spam.csv dataset into a pandas DataFrame\n",
        "spam_df = pd.read_csv('JS4-LW2-Spam.csv', encoding='latin-1')"
      ],
      "metadata": {
        "id": "Vy1zen5nQjr8"
      },
      "execution_count": 17,
      "outputs": []
    },
    {
      "cell_type": "markdown",
      "source": [
        "#### **b. Utilize CountVectorizer with stop words enabled.**"
      ],
      "metadata": {
        "id": "qcxyRi8M7SqS"
      }
    },
    {
      "cell_type": "code",
      "source": [
        "# Get the features and target variable\n",
        "X = spam_df['v2']\n",
        "y = spam_df['v1']\n",
        "\n",
        "# Create a CountVectorizer object with stop words enabled\n",
        "cv = CountVectorizer(stop_words='english')\n",
        "\n",
        "# Transform the features into a matrix of counts\n",
        "X_counts = cv.fit_transform(X)\n",
        "\n",
        "# Split the data into training and testing sets\n",
        "X_train, X_test, y_train, y_test = train_test_split(X_counts, y, test_size=0.25, random_state=42)\n",
        "\n",
        "# Create a Multinomial Naive Bayes classifier\n",
        "mnb_clf = MultinomialNB()\n",
        "\n",
        "# Fit the classifier to the training data\n",
        "mnb_clf.fit(X_train, y_train)\n",
        "\n",
        "# Make predictions on the testing data\n",
        "y_pred = mnb_clf.predict(X_test)"
      ],
      "metadata": {
        "id": "aCCHtqNYU8Lv"
      },
      "execution_count": 18,
      "outputs": []
    },
    {
      "cell_type": "markdown",
      "source": [
        "#### **c. Evaluate the results.**"
      ],
      "metadata": {
        "id": "O-x1pbku7TJ7"
      }
    },
    {
      "cell_type": "code",
      "source": [
        "# Evaluate the performance of the classifier\n",
        "accuracy = accuracy_score(y_test, y_pred)\n",
        "precision = precision_score(y_test, y_pred, average='weighted')\n",
        "recall = recall_score(y_test, y_pred, average='weighted')\n",
        "f1 = f1_score(y_test, y_pred, average='weighted')\n",
        "\n",
        "# Print the evaluation results\n",
        "print('Accuracy:', accuracy)\n",
        "print('Precision:', precision)\n",
        "print('Recall:', recall)\n",
        "print('F1 Score:', f1)"
      ],
      "metadata": {
        "id": "-SKuXACxVJkV",
        "outputId": "695f55e9-8808-403e-d21d-2dd685a516ff",
        "colab": {
          "base_uri": "https://localhost:8080/"
        }
      },
      "execution_count": 19,
      "outputs": [
        {
          "output_type": "stream",
          "name": "stdout",
          "text": [
            "Accuracy: 0.9763101220387652\n",
            "Precision: 0.9763641201975543\n",
            "Recall: 0.9763101220387652\n",
            "F1 Score: 0.9763361195426913\n"
          ]
        }
      ]
    },
    {
      "cell_type": "markdown",
      "source": [
        "### **3. Create another Multinomial Naive Bayes classification model with the following conditions:**"
      ],
      "metadata": {
        "id": "uLRMsyLo7Fpd"
      }
    },
    {
      "cell_type": "markdown",
      "source": [
        "#### **a. Use the spam.csv data.**"
      ],
      "metadata": {
        "id": "7T7Jy3da7HcG"
      }
    },
    {
      "cell_type": "code",
      "source": [
        "import pandas as pd\n",
        "from sklearn.feature_extraction.text import TfidfVectorizer\n",
        "from sklearn.naive_bayes import MultinomialNB\n",
        "from sklearn.metrics import accuracy_score, precision_score, recall_score, f1_score\n",
        "\n",
        "# Load the spam dataset\n",
        "df = pd.read_csv('JS4-LW2-Spam.csv', encoding='latin-1')"
      ],
      "metadata": {
        "id": "PDPwLx3SVRZi"
      },
      "execution_count": 20,
      "outputs": []
    },
    {
      "cell_type": "markdown",
      "source": [
        "#### **b. Employ TF-IDF features with stop words enabled.**"
      ],
      "metadata": {
        "id": "Dp8DSSL_7VH1"
      }
    },
    {
      "cell_type": "code",
      "source": [
        "# Create TF-IDF features with stop words enabled\n",
        "vectorizer = TfidfVectorizer(stop_words='english')\n",
        "X = vectorizer.fit_transform(df['v2'])\n",
        "\n",
        "# Split the data into training and testing sets\n",
        "X_train, X_test, y_train, y_test = train_test_split(X, df['v1'], test_size=0.2, random_state=42)\n",
        "\n",
        "# Create a Multinomial Naive Bayes classifier\n",
        "mnb_clf = MultinomialNB()\n",
        "\n",
        "# Fit the classifier to the training data\n",
        "mnb_clf.fit(X_train, y_train)"
      ],
      "metadata": {
        "id": "hM6J-V5BcZBK",
        "outputId": "82a674f4-9ca0-4c75-81c5-891244e79da8",
        "colab": {
          "base_uri": "https://localhost:8080/",
          "height": 74
        }
      },
      "execution_count": 21,
      "outputs": [
        {
          "output_type": "execute_result",
          "data": {
            "text/plain": [
              "MultinomialNB()"
            ],
            "text/html": [
              "<style>#sk-container-id-2 {color: black;background-color: white;}#sk-container-id-2 pre{padding: 0;}#sk-container-id-2 div.sk-toggleable {background-color: white;}#sk-container-id-2 label.sk-toggleable__label {cursor: pointer;display: block;width: 100%;margin-bottom: 0;padding: 0.3em;box-sizing: border-box;text-align: center;}#sk-container-id-2 label.sk-toggleable__label-arrow:before {content: \"▸\";float: left;margin-right: 0.25em;color: #696969;}#sk-container-id-2 label.sk-toggleable__label-arrow:hover:before {color: black;}#sk-container-id-2 div.sk-estimator:hover label.sk-toggleable__label-arrow:before {color: black;}#sk-container-id-2 div.sk-toggleable__content {max-height: 0;max-width: 0;overflow: hidden;text-align: left;background-color: #f0f8ff;}#sk-container-id-2 div.sk-toggleable__content pre {margin: 0.2em;color: black;border-radius: 0.25em;background-color: #f0f8ff;}#sk-container-id-2 input.sk-toggleable__control:checked~div.sk-toggleable__content {max-height: 200px;max-width: 100%;overflow: auto;}#sk-container-id-2 input.sk-toggleable__control:checked~label.sk-toggleable__label-arrow:before {content: \"▾\";}#sk-container-id-2 div.sk-estimator input.sk-toggleable__control:checked~label.sk-toggleable__label {background-color: #d4ebff;}#sk-container-id-2 div.sk-label input.sk-toggleable__control:checked~label.sk-toggleable__label {background-color: #d4ebff;}#sk-container-id-2 input.sk-hidden--visually {border: 0;clip: rect(1px 1px 1px 1px);clip: rect(1px, 1px, 1px, 1px);height: 1px;margin: -1px;overflow: hidden;padding: 0;position: absolute;width: 1px;}#sk-container-id-2 div.sk-estimator {font-family: monospace;background-color: #f0f8ff;border: 1px dotted black;border-radius: 0.25em;box-sizing: border-box;margin-bottom: 0.5em;}#sk-container-id-2 div.sk-estimator:hover {background-color: #d4ebff;}#sk-container-id-2 div.sk-parallel-item::after {content: \"\";width: 100%;border-bottom: 1px solid gray;flex-grow: 1;}#sk-container-id-2 div.sk-label:hover label.sk-toggleable__label {background-color: #d4ebff;}#sk-container-id-2 div.sk-serial::before {content: \"\";position: absolute;border-left: 1px solid gray;box-sizing: border-box;top: 0;bottom: 0;left: 50%;z-index: 0;}#sk-container-id-2 div.sk-serial {display: flex;flex-direction: column;align-items: center;background-color: white;padding-right: 0.2em;padding-left: 0.2em;position: relative;}#sk-container-id-2 div.sk-item {position: relative;z-index: 1;}#sk-container-id-2 div.sk-parallel {display: flex;align-items: stretch;justify-content: center;background-color: white;position: relative;}#sk-container-id-2 div.sk-item::before, #sk-container-id-2 div.sk-parallel-item::before {content: \"\";position: absolute;border-left: 1px solid gray;box-sizing: border-box;top: 0;bottom: 0;left: 50%;z-index: -1;}#sk-container-id-2 div.sk-parallel-item {display: flex;flex-direction: column;z-index: 1;position: relative;background-color: white;}#sk-container-id-2 div.sk-parallel-item:first-child::after {align-self: flex-end;width: 50%;}#sk-container-id-2 div.sk-parallel-item:last-child::after {align-self: flex-start;width: 50%;}#sk-container-id-2 div.sk-parallel-item:only-child::after {width: 0;}#sk-container-id-2 div.sk-dashed-wrapped {border: 1px dashed gray;margin: 0 0.4em 0.5em 0.4em;box-sizing: border-box;padding-bottom: 0.4em;background-color: white;}#sk-container-id-2 div.sk-label label {font-family: monospace;font-weight: bold;display: inline-block;line-height: 1.2em;}#sk-container-id-2 div.sk-label-container {text-align: center;}#sk-container-id-2 div.sk-container {/* jupyter's `normalize.less` sets `[hidden] { display: none; }` but bootstrap.min.css set `[hidden] { display: none !important; }` so we also need the `!important` here to be able to override the default hidden behavior on the sphinx rendered scikit-learn.org. See: https://github.com/scikit-learn/scikit-learn/issues/21755 */display: inline-block !important;position: relative;}#sk-container-id-2 div.sk-text-repr-fallback {display: none;}</style><div id=\"sk-container-id-2\" class=\"sk-top-container\"><div class=\"sk-text-repr-fallback\"><pre>MultinomialNB()</pre><b>In a Jupyter environment, please rerun this cell to show the HTML representation or trust the notebook. <br />On GitHub, the HTML representation is unable to render, please try loading this page with nbviewer.org.</b></div><div class=\"sk-container\" hidden><div class=\"sk-item\"><div class=\"sk-estimator sk-toggleable\"><input class=\"sk-toggleable__control sk-hidden--visually\" id=\"sk-estimator-id-2\" type=\"checkbox\" checked><label for=\"sk-estimator-id-2\" class=\"sk-toggleable__label sk-toggleable__label-arrow\">MultinomialNB</label><div class=\"sk-toggleable__content\"><pre>MultinomialNB()</pre></div></div></div></div></div>"
            ]
          },
          "metadata": {},
          "execution_count": 21
        }
      ]
    },
    {
      "cell_type": "markdown",
      "source": [
        "#### **c. Evaluate the results and compare them with the results from Task #2.**"
      ],
      "metadata": {
        "id": "EMeewApB7V4p"
      }
    },
    {
      "cell_type": "code",
      "source": [
        "# Make predictions on the testing data\n",
        "y_pred = mnb_clf.predict(X_test)\n",
        "\n",
        "# Evaluate the performance of the classifier\n",
        "accuracy = accuracy_score(y_test, y_pred)\n",
        "precision = precision_score(y_test, y_pred, average='weighted')\n",
        "recall = recall_score(y_test, y_pred, average='weighted')\n",
        "f1 = f1_score(y_test, y_pred, average='weighted')\n",
        "\n",
        "# Print the evaluation results\n",
        "print('Accuracy:', accuracy)\n",
        "print('Precision:', precision)\n",
        "print('Recall:', recall)\n",
        "print('F1 Score:', f1)\n",
        "\n",
        "# Compare the results with the results from Task 2\n",
        "print('The accuracy with TfidfVectorizer and stop words enabled is', accuracy)\n",
        "print('The accuracy with CountVectorizer and stop words enabled is', 0.9763101220387652)"
      ],
      "metadata": {
        "id": "LjLBst5ccl1m",
        "outputId": "0fb86b39-5131-429f-bf4b-490366050760",
        "colab": {
          "base_uri": "https://localhost:8080/"
        }
      },
      "execution_count": 22,
      "outputs": [
        {
          "output_type": "stream",
          "name": "stdout",
          "text": [
            "Accuracy: 0.968609865470852\n",
            "Precision: 0.9697085201793721\n",
            "Recall: 0.968609865470852\n",
            "F1 Score: 0.9668164879640256\n",
            "The accuracy with TfidfVectorizer and stop words enabled is 0.968609865470852\n",
            "The accuracy with CountVectorizer and stop words enabled is 0.9763101220387652\n"
          ]
        }
      ]
    },
    {
      "cell_type": "markdown",
      "source": [
        "#### **d. Provide a conclusion on which feature extraction method is best for the spam.csv dataset.**\n",
        "Answer: In this task and based on accuracy metrics, it can be concluded that the feature extraction method using TF-IDF features with stop words enabled is better for the spam.csv dataset compared to using CountVectorizer without TF-IDF features and with stop words enabled."
      ],
      "metadata": {
        "id": "Yo0H0X7k7Wkf"
      }
    }
  ]
}